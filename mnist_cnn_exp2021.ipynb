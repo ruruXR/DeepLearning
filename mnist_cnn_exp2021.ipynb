{
  "nbformat": 4,
  "nbformat_minor": 0,
  "metadata": {
    "colab": {
      "name": "mnist_cnn_exp2021.ipynb",
      "provenance": [],
      "include_colab_link": true
    },
    "kernelspec": {
      "name": "python3",
      "display_name": "Python 3"
    },
    "language_info": {
      "name": "python"
    },
    "accelerator": "GPU"
  },
  "cells": [
    {
      "cell_type": "markdown",
      "metadata": {
        "id": "view-in-github",
        "colab_type": "text"
      },
      "source": [
        "<a href=\"https://colab.research.google.com/github/ruruXR/DeepLearning/blob/main/mnist_cnn_exp2021.ipynb\" target=\"_parent\"><img src=\"https://colab.research.google.com/assets/colab-badge.svg\" alt=\"Open In Colab\"/></a>"
      ]
    },
    {
      "cell_type": "code",
      "metadata": {
        "id": "yIuNHukk4DXR"
      },
      "source": [
        "# Modules\n",
        "from __future__ import print_function\n",
        "import keras\n",
        "import numpy as np\n",
        "import matplotlib.pyplot as plt\n",
        "\n",
        "from keras.utils import np_utils\n",
        "from keras.datasets import mnist\n",
        "from keras.models import Sequential\n",
        "from keras.layers import Dense, Conv2D,\tMaxPooling2D, Flatten\n",
        "from tensorflow.keras.optimizers import SGD # Sometimes Keras in Colab is broken up..."
      ],
      "execution_count": null,
      "outputs": []
    },
    {
      "cell_type": "code",
      "metadata": {
        "id": "HmwTw-5eA47w"
      },
      "source": [
        "# Parameters                                                                                        \n",
        "batch_size = 128\n",
        "num_classes = 10\n",
        "epochs = 10"
      ],
      "execution_count": null,
      "outputs": []
    },
    {
      "cell_type": "code",
      "metadata": {
        "colab": {
          "base_uri": "https://localhost:8080/"
        },
        "id": "FdtpJm-vA8bm",
        "outputId": "82c64de5-68fd-4bed-cae3-b528752936d1"
      },
      "source": [
        "# Load MNIST data                                                                                   \n",
        "(x_train, y_train), (x_valid, y_valid) = mnist.load_data()\n",
        "x_train = x_train.reshape(60000, 28, 28, 1)\n",
        "x_valid = x_valid.reshape(10000, 28, 28, 1)\n",
        "x_train = x_train.astype('float32')\n",
        "x_valid = x_valid.astype('float32')\n",
        "x_train /= 255\n",
        "x_valid /= 255\n",
        "print(x_train.shape[0], 'train samples')\n",
        "print(x_valid.shape[0], 'test samples')"
      ],
      "execution_count": null,
      "outputs": [
        {
          "output_type": "stream",
          "name": "stdout",
          "text": [
            "60000 train samples\n",
            "10000 test samples\n"
          ]
        }
      ]
    },
    {
      "cell_type": "code",
      "metadata": {
        "id": "ta1UeOFZBIe-"
      },
      "source": [
        "# Convert class vectors to binary class                                                             \n",
        "y_train = np_utils.to_categorical(y_train, num_classes)\n",
        "y_valid = np_utils.to_categorical(y_valid, num_classes)"
      ],
      "execution_count": null,
      "outputs": []
    },
    {
      "cell_type": "code",
      "metadata": {
        "colab": {
          "base_uri": "https://localhost:8080/"
        },
        "id": "vt5vn3pQBLEe",
        "outputId": "ed61666f-b11a-4a58-cfb5-d55d3b61e5d2"
      },
      "source": [
        "model = Sequential()\n",
        "model.add(Conv2D(8, (3, 3), activation='relu', input_shape=(28, 28, 1)))\n",
        "model.add(Conv2D(8, (3, 3), activation='relu'))\n",
        "model.add(MaxPooling2D(pool_size=(2, 2)))\n",
        "model.add(Conv2D(8, (3, 3), activation='relu'))\n",
        "model.add(Conv2D(8, (3, 3), activation='relu'))\n",
        "model.add(MaxPooling2D(pool_size=(2, 2)))\n",
        "model.add(Flatten())\n",
        "model.add(Dense(64, activation='relu'))\n",
        "model.add(Dense(32, activation='relu'))\n",
        "model.add(Dense(num_classes, activation='softmax'))\n",
        "model.summary()\n",
        "model.compile(loss='categorical_crossentropy',\n",
        "              optimizer=SGD(), metrics=['accuracy'])"
      ],
      "execution_count": null,
      "outputs": [
        {
          "output_type": "stream",
          "name": "stdout",
          "text": [
            "Model: \"sequential_3\"\n",
            "_________________________________________________________________\n",
            " Layer (type)                Output Shape              Param #   \n",
            "=================================================================\n",
            " conv2d_12 (Conv2D)          (None, 26, 26, 8)         80        \n",
            "                                                                 \n",
            " conv2d_13 (Conv2D)          (None, 24, 24, 8)         584       \n",
            "                                                                 \n",
            " max_pooling2d_6 (MaxPooling  (None, 12, 12, 8)        0         \n",
            " 2D)                                                             \n",
            "                                                                 \n",
            " conv2d_14 (Conv2D)          (None, 10, 10, 8)         584       \n",
            "                                                                 \n",
            " conv2d_15 (Conv2D)          (None, 8, 8, 8)           584       \n",
            "                                                                 \n",
            " max_pooling2d_7 (MaxPooling  (None, 4, 4, 8)          0         \n",
            " 2D)                                                             \n",
            "                                                                 \n",
            " flatten_3 (Flatten)         (None, 128)               0         \n",
            "                                                                 \n",
            " dense_9 (Dense)             (None, 64)                8256      \n",
            "                                                                 \n",
            " dense_10 (Dense)            (None, 32)                2080      \n",
            "                                                                 \n",
            " dense_11 (Dense)            (None, 10)                330       \n",
            "                                                                 \n",
            "=================================================================\n",
            "Total params: 12,498\n",
            "Trainable params: 12,498\n",
            "Non-trainable params: 0\n",
            "_________________________________________________________________\n"
          ]
        }
      ]
    },
    {
      "cell_type": "code",
      "metadata": {
        "colab": {
          "base_uri": "https://localhost:8080/"
        },
        "id": "GaDD6H7kB_aa",
        "outputId": "a932cf60-08ef-4481-edf4-4f746beb6b91"
      },
      "source": [
        "# Learning and Score evalution                                                                           \n",
        "hist = model.fit(x_train, y_train, batch_size=batch_size,\n",
        "                epochs=epochs, verbose=1,\n",
        "                validation_data=(x_valid, y_valid))\n",
        "score = model.evaluate(x_valid, y_valid, verbose=0)\n",
        "print('Validation loss:', score[0])\n",
        "print('Validation accuracy:', score[1])"
      ],
      "execution_count": null,
      "outputs": [
        {
          "output_type": "stream",
          "name": "stdout",
          "text": [
            "Epoch 1/10\n",
            "469/469 [==============================] - 5s 10ms/step - loss: 2.1827 - accuracy: 0.2599 - val_loss: 1.3657 - val_accuracy: 0.5383\n",
            "Epoch 2/10\n",
            "469/469 [==============================] - 5s 11ms/step - loss: 0.5833 - accuracy: 0.8191 - val_loss: 0.3798 - val_accuracy: 0.8807\n",
            "Epoch 3/10\n",
            "469/469 [==============================] - 5s 10ms/step - loss: 0.2956 - accuracy: 0.9110 - val_loss: 0.2623 - val_accuracy: 0.9163\n",
            "Epoch 4/10\n",
            "469/469 [==============================] - 5s 11ms/step - loss: 0.2218 - accuracy: 0.9330 - val_loss: 0.1790 - val_accuracy: 0.9444\n",
            "Epoch 5/10\n",
            "469/469 [==============================] - 5s 10ms/step - loss: 0.1821 - accuracy: 0.9443 - val_loss: 0.1653 - val_accuracy: 0.9463\n",
            "Epoch 6/10\n",
            "469/469 [==============================] - 5s 10ms/step - loss: 0.1584 - accuracy: 0.9501 - val_loss: 0.1354 - val_accuracy: 0.9566\n",
            "Epoch 7/10\n",
            "469/469 [==============================] - 5s 10ms/step - loss: 0.1423 - accuracy: 0.9559 - val_loss: 0.1232 - val_accuracy: 0.9608\n",
            "Epoch 8/10\n",
            "469/469 [==============================] - 5s 11ms/step - loss: 0.1300 - accuracy: 0.9596 - val_loss: 0.1138 - val_accuracy: 0.9642\n",
            "Epoch 9/10\n",
            "469/469 [==============================] - 5s 11ms/step - loss: 0.1205 - accuracy: 0.9622 - val_loss: 0.1065 - val_accuracy: 0.9667\n",
            "Epoch 10/10\n",
            "469/469 [==============================] - 5s 10ms/step - loss: 0.1120 - accuracy: 0.9653 - val_loss: 0.1078 - val_accuracy: 0.9640\n",
            "Validation loss: 0.10780943930149078\n",
            "Validation accuracy: 0.9639999866485596\n"
          ]
        }
      ]
    },
    {
      "cell_type": "code",
      "metadata": {
        "colab": {
          "base_uri": "https://localhost:8080/",
          "height": 379
        },
        "id": "-xamVRHpEoMC",
        "outputId": "f928d9aa-9cbc-4696-be7d-af8f7b3b3bed"
      },
      "source": [
        "#  Plot Learning Result\n",
        "# Size\n",
        "plt.figure(figsize=(10, 4), dpi=100) \n",
        "\n",
        "# Loss\n",
        "plt.subplot(1,2,1)\n",
        "plt.xlabel('Epoch')\n",
        "plt.ylabel('Loss')\n",
        "plt.plot(np.arange(1, len(hist.history['loss'])+1), hist.history['loss'],     label = 'loss')\n",
        "plt.plot(np.arange(1, len(hist.history['loss'])+1), hist.history['val_loss'], label = 'val_loss')\n",
        "plt.legend()\n",
        "\n",
        "# Accuracy\n",
        "plt.subplot(1,2,2)\n",
        "plt.xlabel('Epoch')\n",
        "plt.ylabel('Accuracy')\n",
        "plt.plot(np.arange(1, len(hist.history['accuracy'])+1), hist.history['accuracy'],     label = 'accuracy')\n",
        "plt.plot(np.arange(1, len(hist.history['accuracy'])+1), hist.history['val_accuracy'], label = 'val_accuracy')\n",
        "plt.legend()"
      ],
      "execution_count": null,
      "outputs": [
        {
          "output_type": "execute_result",
          "data": {
            "text/plain": [
              "<matplotlib.legend.Legend at 0x7fbb501ebfd0>"
            ]
          },
          "metadata": {},
          "execution_count": 30
        },
        {
          "output_type": "display_data",
          "data": {
            "image/png": "[encoded data removed]",
            "text/plain": [
              "<Figure size 1000x400 with 2 Axes>"
            ]
          },
          "metadata": {
            "needs_background": "light"
          }
        }
      ]
    },
    {
      "cell_type": "code",
      "metadata": {
        "colab": {
          "base_uri": "https://localhost:8080/"
        },
        "id": "Z9dGQW5PCPHa",
        "outputId": "c3cbab02-cc81-4494-e547-8934a1b6357e"
      },
      "source": [
        "# Confusion Matrix                                                                                      \n",
        "from sklearn.metrics import confusion_matrix\n",
        "\n",
        "true_classes=np.argmax(y_valid[1:100],axis=1)\n",
        "predict_x=model.predict(x_valid[1:100,]) \n",
        "predict_classes=np.argmax(predict_x,axis=1)\n",
        "\n",
        "print(confusion_matrix(true_classes, predict_classes))"
      ],
      "execution_count": null,
      "outputs": [
        {
          "output_type": "stream",
          "name": "stdout",
          "text": [
            "[[ 8  0  0  0  0  0  0  0  0  0]\n",
            " [ 0 14  0  0  0  0  0  0  0  0]\n",
            " [ 0  0  8  0  0  0  0  0  0  0]\n",
            " [ 0  0  0 11  0  0  0  0  0  0]\n",
            " [ 0  0  0  0 14  0  0  0  0  0]\n",
            " [ 0  0  0  0  0  7  0  0  0  0]\n",
            " [ 0  0  0  0  0  0 10  0  0  0]\n",
            " [ 0  0  0  0  0  0  0 14  0  0]\n",
            " [ 0  0  0  0  0  0  0  0  2  0]\n",
            " [ 0  0  0  0  0  0  0  0  1 10]]\n"
          ]
        }
      ]
    },
    {
      "cell_type": "code",
      "metadata": {
        "id": "cWY3JDdnCdw6"
      },
      "source": [
        ""
      ],
      "execution_count": null,
      "outputs": []
    }
  ]
}